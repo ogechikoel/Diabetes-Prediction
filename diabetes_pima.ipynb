{
 "cells": [
  {
   "cell_type": "code",
   "execution_count": 84,
   "id": "d0879204-e92d-4b4b-bd71-710685b61fee",
   "metadata": {},
   "outputs": [],
   "source": [
    "import pandas as pd\n",
    "import janitor \n",
    "import matplotlib.pyplot as plt\n",
    "import seaborn as sns\n",
    "import warnings\n",
    "warnings.filterwarnings(\"ignore\")\n",
    "from imblearn.over_sampling import SMOTE\n",
    "from sklearn.model_selection import train_test_split, GridSearchCV,RepeatedStratifiedKFold\n",
    "from collections import Counter\n",
    "from sklearn.linear_model import LogisticRegression\n",
    "from sklearn.naive_bayes import GaussianNB\n",
    "from sklearn.tree import DecisionTreeClassifier\n",
    "from sklearn.ensemble import RandomForestClassifier\n",
    "from sklearn.svm import SVC\n",
    "from sklearn.preprocessing import MinMaxScaler\n",
    "from sklearn.neighbors import KNeighborsClassifier\n",
    "import xgboost as xgb\n",
    "from sklearn.metrics import accuracy_score, confusion_matrix, classification_report, roc_curve, auc"
   ]
  },
  {
   "cell_type": "code",
   "execution_count": 2,
   "id": "f69dcc2a-259c-4b09-8f04-1161826a2db0",
   "metadata": {},
   "outputs": [],
   "source": [
    "#IMporting the dataset\n",
    "df = pd.read_csv(\"C:/Users/DELL/Documents/Data Science/datasets_1/diabetes-1.csv\").clean_names()"
   ]
  },
  {
   "cell_type": "code",
   "execution_count": 3,
   "id": "fd15cf0f-01fd-4816-9c2d-6c592b134d91",
   "metadata": {},
   "outputs": [
    {
     "data": {
      "text/html": [
       "<div>\n",
       "<style scoped>\n",
       "    .dataframe tbody tr th:only-of-type {\n",
       "        vertical-align: middle;\n",
       "    }\n",
       "\n",
       "    .dataframe tbody tr th {\n",
       "        vertical-align: top;\n",
       "    }\n",
       "\n",
       "    .dataframe thead th {\n",
       "        text-align: right;\n",
       "    }\n",
       "</style>\n",
       "<table border=\"1\" class=\"dataframe\">\n",
       "  <thead>\n",
       "    <tr style=\"text-align: right;\">\n",
       "      <th></th>\n",
       "      <th>pregnancies</th>\n",
       "      <th>glucose</th>\n",
       "      <th>bloodpressure</th>\n",
       "      <th>skinthickness</th>\n",
       "      <th>insulin</th>\n",
       "      <th>bmi</th>\n",
       "      <th>diabetespedigreefunction</th>\n",
       "      <th>age</th>\n",
       "      <th>outcome</th>\n",
       "    </tr>\n",
       "  </thead>\n",
       "  <tbody>\n",
       "    <tr>\n",
       "      <th>0</th>\n",
       "      <td>6</td>\n",
       "      <td>148</td>\n",
       "      <td>72</td>\n",
       "      <td>35</td>\n",
       "      <td>0</td>\n",
       "      <td>33.6</td>\n",
       "      <td>0.627</td>\n",
       "      <td>50</td>\n",
       "      <td>1</td>\n",
       "    </tr>\n",
       "    <tr>\n",
       "      <th>1</th>\n",
       "      <td>1</td>\n",
       "      <td>85</td>\n",
       "      <td>66</td>\n",
       "      <td>29</td>\n",
       "      <td>0</td>\n",
       "      <td>26.6</td>\n",
       "      <td>0.351</td>\n",
       "      <td>31</td>\n",
       "      <td>0</td>\n",
       "    </tr>\n",
       "    <tr>\n",
       "      <th>2</th>\n",
       "      <td>8</td>\n",
       "      <td>183</td>\n",
       "      <td>64</td>\n",
       "      <td>0</td>\n",
       "      <td>0</td>\n",
       "      <td>23.3</td>\n",
       "      <td>0.672</td>\n",
       "      <td>32</td>\n",
       "      <td>1</td>\n",
       "    </tr>\n",
       "    <tr>\n",
       "      <th>3</th>\n",
       "      <td>1</td>\n",
       "      <td>89</td>\n",
       "      <td>66</td>\n",
       "      <td>23</td>\n",
       "      <td>94</td>\n",
       "      <td>28.1</td>\n",
       "      <td>0.167</td>\n",
       "      <td>21</td>\n",
       "      <td>0</td>\n",
       "    </tr>\n",
       "    <tr>\n",
       "      <th>4</th>\n",
       "      <td>0</td>\n",
       "      <td>137</td>\n",
       "      <td>40</td>\n",
       "      <td>35</td>\n",
       "      <td>168</td>\n",
       "      <td>43.1</td>\n",
       "      <td>2.288</td>\n",
       "      <td>33</td>\n",
       "      <td>1</td>\n",
       "    </tr>\n",
       "    <tr>\n",
       "      <th>5</th>\n",
       "      <td>5</td>\n",
       "      <td>116</td>\n",
       "      <td>74</td>\n",
       "      <td>0</td>\n",
       "      <td>0</td>\n",
       "      <td>25.6</td>\n",
       "      <td>0.201</td>\n",
       "      <td>30</td>\n",
       "      <td>0</td>\n",
       "    </tr>\n",
       "    <tr>\n",
       "      <th>6</th>\n",
       "      <td>3</td>\n",
       "      <td>78</td>\n",
       "      <td>50</td>\n",
       "      <td>32</td>\n",
       "      <td>88</td>\n",
       "      <td>31.0</td>\n",
       "      <td>0.248</td>\n",
       "      <td>26</td>\n",
       "      <td>1</td>\n",
       "    </tr>\n",
       "    <tr>\n",
       "      <th>7</th>\n",
       "      <td>10</td>\n",
       "      <td>115</td>\n",
       "      <td>0</td>\n",
       "      <td>0</td>\n",
       "      <td>0</td>\n",
       "      <td>35.3</td>\n",
       "      <td>0.134</td>\n",
       "      <td>29</td>\n",
       "      <td>0</td>\n",
       "    </tr>\n",
       "    <tr>\n",
       "      <th>8</th>\n",
       "      <td>2</td>\n",
       "      <td>197</td>\n",
       "      <td>70</td>\n",
       "      <td>45</td>\n",
       "      <td>543</td>\n",
       "      <td>30.5</td>\n",
       "      <td>0.158</td>\n",
       "      <td>53</td>\n",
       "      <td>1</td>\n",
       "    </tr>\n",
       "    <tr>\n",
       "      <th>9</th>\n",
       "      <td>8</td>\n",
       "      <td>125</td>\n",
       "      <td>96</td>\n",
       "      <td>0</td>\n",
       "      <td>0</td>\n",
       "      <td>0.0</td>\n",
       "      <td>0.232</td>\n",
       "      <td>54</td>\n",
       "      <td>1</td>\n",
       "    </tr>\n",
       "  </tbody>\n",
       "</table>\n",
       "</div>"
      ],
      "text/plain": [
       "   pregnancies  glucose  bloodpressure  skinthickness  insulin   bmi  \\\n",
       "0            6      148             72             35        0  33.6   \n",
       "1            1       85             66             29        0  26.6   \n",
       "2            8      183             64              0        0  23.3   \n",
       "3            1       89             66             23       94  28.1   \n",
       "4            0      137             40             35      168  43.1   \n",
       "5            5      116             74              0        0  25.6   \n",
       "6            3       78             50             32       88  31.0   \n",
       "7           10      115              0              0        0  35.3   \n",
       "8            2      197             70             45      543  30.5   \n",
       "9            8      125             96              0        0   0.0   \n",
       "\n",
       "   diabetespedigreefunction  age  outcome  \n",
       "0                     0.627   50        1  \n",
       "1                     0.351   31        0  \n",
       "2                     0.672   32        1  \n",
       "3                     0.167   21        0  \n",
       "4                     2.288   33        1  \n",
       "5                     0.201   30        0  \n",
       "6                     0.248   26        1  \n",
       "7                     0.134   29        0  \n",
       "8                     0.158   53        1  \n",
       "9                     0.232   54        1  "
      ]
     },
     "execution_count": 3,
     "metadata": {},
     "output_type": "execute_result"
    }
   ],
   "source": [
    "#viewing the first 10 rows \n",
    "df.head(10)"
   ]
  },
  {
   "cell_type": "code",
   "execution_count": 4,
   "id": "5f9060f2-c830-4f47-88b4-42e022f6070f",
   "metadata": {},
   "outputs": [
    {
     "name": "stdout",
     "output_type": "stream",
     "text": [
      "<class 'pandas.core.frame.DataFrame'>\n",
      "RangeIndex: 768 entries, 0 to 767\n",
      "Data columns (total 9 columns):\n",
      " #   Column                    Non-Null Count  Dtype  \n",
      "---  ------                    --------------  -----  \n",
      " 0   pregnancies               768 non-null    int64  \n",
      " 1   glucose                   768 non-null    int64  \n",
      " 2   bloodpressure             768 non-null    int64  \n",
      " 3   skinthickness             768 non-null    int64  \n",
      " 4   insulin                   768 non-null    int64  \n",
      " 5   bmi                       768 non-null    float64\n",
      " 6   diabetespedigreefunction  768 non-null    float64\n",
      " 7   age                       768 non-null    int64  \n",
      " 8   outcome                   768 non-null    int64  \n",
      "dtypes: float64(2), int64(7)\n",
      "memory usage: 54.1 KB\n"
     ]
    }
   ],
   "source": [
    "#Structure of the dataset\n",
    "df.info()"
   ]
  },
  {
   "cell_type": "code",
   "execution_count": 5,
   "id": "2bf50c23-a916-4054-af7a-51a466aed5cf",
   "metadata": {},
   "outputs": [
    {
     "data": {
      "text/plain": [
       "pregnancies                 0\n",
       "glucose                     0\n",
       "bloodpressure               0\n",
       "skinthickness               0\n",
       "insulin                     0\n",
       "bmi                         0\n",
       "diabetespedigreefunction    0\n",
       "age                         0\n",
       "outcome                     0\n",
       "dtype: int64"
      ]
     },
     "execution_count": 5,
     "metadata": {},
     "output_type": "execute_result"
    }
   ],
   "source": [
    "#checking for missing values \n",
    "df.isnull().sum()"
   ]
  },
  {
   "cell_type": "code",
   "execution_count": 6,
   "id": "ddc707d5-218f-41f9-b84d-f93abe115896",
   "metadata": {},
   "outputs": [
    {
     "data": {
      "text/plain": [
       "0"
      ]
     },
     "execution_count": 6,
     "metadata": {},
     "output_type": "execute_result"
    }
   ],
   "source": [
    "#checking for duplicates \n",
    "df.duplicated().sum()"
   ]
  },
  {
   "cell_type": "code",
   "execution_count": 7,
   "id": "57fec241-852c-4a39-9dfd-13f10229f8ec",
   "metadata": {},
   "outputs": [
    {
     "data": {
      "image/png": "[encoded data removed]",
      "text/plain": [
       "<Figure size 1200x1200 with 1 Axes>"
      ]
     },
     "metadata": {},
     "output_type": "display_data"
    }
   ],
   "source": [
    "#plotting the boxplots of numeric varaibles \n",
    "numeric_var = [\"glucose\", \"pregnancies\", \"bloodpressure\", \"skinthickness\", \"insulin\", \"bmi\", \"diabetespedigreefunction\", \"age\"]\n",
    "\n",
    "df[numeric_var].boxplot(figsize= (12,12), color =\"skyblue\")\n",
    "\n",
    "plt.suptitle(\"Boxplot of numeric variables\")\n",
    "plt.tight_layout(rect=[0, 0.03, 1, 0.95])  # Adjust layout to prevent title overlap\n",
    "plt.show()\n",
    "\n"
   ]
  },
  {
   "cell_type": "code",
   "execution_count": 8,
   "id": "9a3283a6-d8c9-4775-823d-f697367deaae",
   "metadata": {},
   "outputs": [],
   "source": [
    "#replace the zeros in  bloodpressure, bmi and glucose\n",
    "\n",
    "#compute the median of non-zero values\n",
    "median_val = df.loc[df[\"glucose\"]!= 0, \"glucose\"].median()\n",
    "\n",
    "#replace the zeros\n",
    "df[\"glucose\"] = df[\"glucose\"].replace(0, median_val)\n",
    "\n",
    "\n",
    "##For bloodpressure \n",
    "#compute the median of non-zero values\n",
    "median_val_b = df.loc[df[\"bloodpressure\"]!= 0, \"bloodpressure\"].median()\n",
    "\n",
    "#replace the zeros\n",
    "df[\"bloodpressure\"] = df[\"bloodpressure\"].replace(0, median_val_b)\n",
    "\n",
    "\n",
    "#For bmi \n",
    "#compute the median of non-zero values\n",
    "median_val_bm = df.loc[df[\"bmi\"]!= 0, \"bmi\"].median()\n",
    "\n",
    "#replace the zeros\n",
    "df[\"bmi\"] = df[\"bmi\"].replace(0, median_val_bm)\n"
   ]
  },
  {
   "cell_type": "code",
   "execution_count": 9,
   "id": "f5e09673-617e-4ae1-b551-36b111e6369a",
   "metadata": {},
   "outputs": [
    {
     "data": {
      "image/png": "[encoded data removed]",
      "text/plain": [
       "<Figure size 1200x1200 with 9 Axes>"
      ]
     },
     "metadata": {},
     "output_type": "display_data"
    }
   ],
   "source": [
    "numeric_var = [\"glucose\", \"pregnancies\", \"bloodpressure\", \"skinthickness\", \"insulin\", \"bmi\", \"diabetespedigreefunction\", \"age\"]\n",
    "\n",
    "df[numeric_var].hist(figsize= (12,12), bins = 15, color =\"skyblue\")\n",
    "\n",
    "plt.suptitle(\"Histograms of numeric variables\")\n",
    "plt.tight_layout(rect=[0, 0.03, 1, 0.95])  # Adjust layout to prevent title overlap\n",
    "plt.show()"
   ]
  },
  {
   "cell_type": "markdown",
   "id": "6b3a9ef7-e5a3-41e1-b019-3fb4e7bcd205",
   "metadata": {},
   "source": [
    "**TARGET VARIABLE**"
   ]
  },
  {
   "cell_type": "code",
   "execution_count": 10,
   "id": "3b3c7611-eec4-48a6-a99e-5cb58a4b4aa2",
   "metadata": {},
   "outputs": [
    {
     "data": {
      "image/png": "[encoded data removed]",
      "text/plain": [
       "<Figure size 640x480 with 1 Axes>"
      ]
     },
     "metadata": {},
     "output_type": "display_data"
    }
   ],
   "source": [
    "sns.countplot(x = df[\"outcome\"], palette = \"muted\")\n",
    "plt.xticks([\"0\", \"1\"], [\"No\", \"Yes\"])\n",
    "plt.show()"
   ]
  },
  {
   "cell_type": "code",
   "execution_count": 11,
   "id": "234b33b3-2e1b-46d7-99b2-edaedc9105b7",
   "metadata": {},
   "outputs": [
    {
     "name": "stdout",
     "output_type": "stream",
     "text": [
      "outcome\n",
      "0    65.104167\n",
      "1    34.895833\n",
      "Name: proportion, dtype: float64\n"
     ]
    }
   ],
   "source": [
    "#assesing the target variable\n",
    "print(df['outcome'].value_counts(normalize=True)*100)"
   ]
  },
  {
   "cell_type": "markdown",
   "id": "1dd12859-3b0f-42e9-933c-769ea85b7b54",
   "metadata": {},
   "source": [
    "**FITTING THE MODELS**"
   ]
  },
  {
   "cell_type": "code",
   "execution_count": 12,
   "id": "e3e97d19-8cc8-40fc-89fa-ca3d1bd69fff",
   "metadata": {},
   "outputs": [],
   "source": [
    "#defining predictors and the variables \n",
    "X = df.drop(columns = ['outcome'])\n",
    "y = df['outcome']"
   ]
  },
  {
   "cell_type": "code",
   "execution_count": 13,
   "id": "22f20036-3a80-4ba8-9258-4ad3527a5b6a",
   "metadata": {},
   "outputs": [],
   "source": [
    "#defining the training and the testing split \n",
    "X_train, X_test,  y_train, y_test = train_test_split(X, y, stratify = y, test_size = 0.2, random_state = 42)"
   ]
  },
  {
   "cell_type": "markdown",
   "id": "15a6db5f-c6d5-4792-b0c9-3c0547996df4",
   "metadata": {},
   "source": [
    "**Handling Class Imbalance**"
   ]
  },
  {
   "cell_type": "code",
   "execution_count": 14,
   "id": "8ea03e10-fc24-4ded-b5b9-ae911d5a6bfc",
   "metadata": {},
   "outputs": [
    {
     "name": "stdout",
     "output_type": "stream",
     "text": [
      "After smote Counter({0: 400, 1: 400})\n"
     ]
    }
   ],
   "source": [
    "#we only oversample the training set\n",
    "smote = SMOTE(random_state=42)\n",
    "X_train, y_train = smote.fit_resample(X_train, y_train)\n",
    "\n",
    "#the distribution of y\n",
    "print(\"After smote\", Counter(y_train))"
   ]
  },
  {
   "cell_type": "code",
   "execution_count": 27,
   "id": "e7ceb902-3f2c-4a49-99a1-9e7afe73b591",
   "metadata": {},
   "outputs": [],
   "source": [
    "#defining the cross validation\n",
    "cv = RepeatedStratifiedKFold(n_splits = 10, n_repeats = 4, random_state = 123)"
   ]
  },
  {
   "cell_type": "markdown",
   "id": "a3195a35-fb2c-460a-8305-e9280361ead7",
   "metadata": {},
   "source": [
    "**Logistic Regression**"
   ]
  },
  {
   "cell_type": "code",
   "execution_count": 15,
   "id": "c9b1edfe-473e-452b-a335-7fcd63da6f80",
   "metadata": {},
   "outputs": [],
   "source": [
    "#defing the model\n",
    "log_model = LogisticRegression()\n",
    "\n",
    "#Fitting the model\n",
    "\n",
    "model = log_model.fit(X_train, y_train)\n",
    "\n",
    "#Making Predictions\n",
    "\n",
    "l_pred = model.predict(X_test)"
   ]
  },
  {
   "cell_type": "code",
   "execution_count": 16,
   "id": "38d602b3-d30b-4b9b-9577-34cbbd5d83aa",
   "metadata": {},
   "outputs": [
    {
     "name": "stdout",
     "output_type": "stream",
     "text": [
      "Logistic  Testing Accuracy: 0.7597\n"
     ]
    }
   ],
   "source": [
    "#\n",
    "log_testing_accuracy = accuracy_score(y_test, l_pred)\n",
    "#Accuracy score \n",
    "print(f\"Logistic  Testing Accuracy: {log_testing_accuracy:.4f}\")"
   ]
  },
  {
   "cell_type": "code",
   "execution_count": 17,
   "id": "870352c7-7814-415c-b6be-0ff53f548db8",
   "metadata": {},
   "outputs": [
    {
     "name": "stdout",
     "output_type": "stream",
     "text": [
      "Logistic  Training Accuracy: 0.7500\n"
     ]
    }
   ],
   "source": [
    "#Training Accuracy \n",
    "log_train = model.predict(X_train)\n",
    "\n",
    "log_trainig_accuracy = accuracy_score(y_train, log_train)\n",
    "#Accuracy score \n",
    "print(f\"Logistic  Training Accuracy: {log_trainig_accuracy:.4f}\")"
   ]
  },
  {
   "cell_type": "code",
   "execution_count": 18,
   "id": "52fdb3ae-069c-4cc7-978e-88ef74ff7635",
   "metadata": {},
   "outputs": [
    {
     "name": "stdout",
     "output_type": "stream",
     "text": [
      "Logistic Classification Report:\n",
      "               precision    recall  f1-score   support\n",
      "\n",
      "           0       0.85      0.76      0.80       100\n",
      "           1       0.63      0.76      0.69        54\n",
      "\n",
      "    accuracy                           0.76       154\n",
      "   macro avg       0.74      0.76      0.75       154\n",
      "weighted avg       0.78      0.76      0.76       154\n",
      "\n"
     ]
    }
   ],
   "source": [
    "#Classification Report \n",
    "print(f\"Logistic Classification Report:\\n {classification_report(y_test, l_pred)}\")"
   ]
  },
  {
   "cell_type": "code",
   "execution_count": 19,
   "id": "7cd19750-3225-4715-9c3d-966df1f332f0",
   "metadata": {},
   "outputs": [
    {
     "name": "stdout",
     "output_type": "stream",
     "text": [
      "Logistic AUC: 0.7596296296296297\n"
     ]
    }
   ],
   "source": [
    " #Computing the AUC \n",
    "fpr, tpr, thresholds = roc_curve(y_test, l_pred)\n",
    " log_roc_auc = auc(fpr, tpr)\n",
    " print(f\"Logistic AUC: {log_roc_auc}\")"
   ]
  },
  {
   "cell_type": "markdown",
   "id": "3442a0e3-af92-445f-b598-9d9dc2d08408",
   "metadata": {},
   "source": [
    "**Naive Bayes Model**"
   ]
  },
  {
   "cell_type": "code",
   "execution_count": 22,
   "id": "e9800b2b-8f95-46c6-84ef-f1bd8458b5d7",
   "metadata": {},
   "outputs": [],
   "source": [
    "\n",
    "# Naive Bayes Algorithm \n",
    "naive = GaussianNB ()\n",
    "\n",
    "#defining the parameter grid\n",
    "\n",
    "param_grid = { 'var_smoothing' : [1e-9, 1e-8, 1e-7, 1e-6]\n",
    "             }"
   ]
  },
  {
   "cell_type": "code",
   "execution_count": 28,
   "id": "be5fe560-3ea8-4d03-a18c-c9ba0bd6cd3a",
   "metadata": {},
   "outputs": [],
   "source": [
    "#defining the grid search \n",
    "naive_grid = GridSearchCV(estimator = naive, param_grid = param_grid, n_jobs = -1, cv = cv, verbose = 1)\n",
    "#  verbose = 1 Prints progress messages while training (helpful to see what's happening)."
   ]
  },
  {
   "cell_type": "code",
   "execution_count": 29,
   "id": "2f6eca3e-531a-4f38-a92d-3075fe082e30",
   "metadata": {},
   "outputs": [
    {
     "name": "stdout",
     "output_type": "stream",
     "text": [
      "Fitting 40 folds for each of 4 candidates, totalling 160 fits\n"
     ]
    }
   ],
   "source": [
    "n_model = naive_grid.fit(X_train, y_train)"
   ]
  },
  {
   "cell_type": "code",
   "execution_count": 34,
   "id": "fb258201-11dc-4f4b-b066-f9149b02d249",
   "metadata": {},
   "outputs": [
    {
     "name": "stdout",
     "output_type": "stream",
     "text": [
      "Naive Training Accuracy: 0.7412\n"
     ]
    }
   ],
   "source": [
    "#Naive Bayes Training Accuracy\n",
    "naive_train = n_model.predict(X_train)\n",
    "\n",
    "naive_train_accuracy = accuracy_score(y_train, naive_train)\n",
    "#Accuracy Score \n",
    "print(f\"Naive Training Accuracy: {naive_train_accuracy:.4f}\")"
   ]
  },
  {
   "cell_type": "code",
   "execution_count": 35,
   "id": "3b6a04e6-ac37-4eb7-978f-373e4c7b2846",
   "metadata": {},
   "outputs": [],
   "source": [
    "#making Predictions \n",
    "naive_pred = n_model.predict(X_test)"
   ]
  },
  {
   "cell_type": "code",
   "execution_count": 36,
   "id": "d967f303-1e0d-499c-9e35-9ebdcef587b1",
   "metadata": {},
   "outputs": [
    {
     "name": "stdout",
     "output_type": "stream",
     "text": [
      "Naive Testing Accuracy: 0.7013\n"
     ]
    }
   ],
   "source": [
    "#Accuracy Score \n",
    "naive_test_accuracy = accuracy_score(y_test, naive_pred)\n",
    "print(f\"Naive Testing Accuracy: {naive_test_accuracy:.4f}\")"
   ]
  },
  {
   "cell_type": "code",
   "execution_count": 37,
   "id": "966d1f6a-791f-4667-9b12-efc0774bcd6c",
   "metadata": {},
   "outputs": [
    {
     "name": "stdout",
     "output_type": "stream",
     "text": [
      "Naive Bayes Classification report:\n",
      "               precision    recall  f1-score   support\n",
      "\n",
      "           0       0.81      0.71      0.76       100\n",
      "           1       0.56      0.69      0.62        54\n",
      "\n",
      "    accuracy                           0.70       154\n",
      "   macro avg       0.68      0.70      0.69       154\n",
      "weighted avg       0.72      0.70      0.71       154\n",
      "\n"
     ]
    }
   ],
   "source": [
    "#Classification Report \n",
    "print(f\"Naive Bayes Classification report:\\n {classification_report(y_test, naive_pred)}\")"
   ]
  },
  {
   "cell_type": "code",
   "execution_count": 38,
   "id": "649f05e9-9b8d-451d-8e35-d6f5d342968f",
   "metadata": {},
   "outputs": [
    {
     "name": "stdout",
     "output_type": "stream",
     "text": [
      "Naive Bayes AUC: 0.6976\n"
     ]
    }
   ],
   "source": [
    "#AUC SCORE\n",
    "\n",
    "fpr, tpr, thresholds = roc_curve(y_test, naive_pred)\n",
    "naive_roc_auc = auc(fpr, tpr)\n",
    "print(f\"Naive Bayes AUC: {naive_roc_auc:.4f}\")"
   ]
  },
  {
   "cell_type": "markdown",
   "id": "6e886395-e0c8-4b35-b539-d69182ef3a4d",
   "metadata": {},
   "source": [
    "**FITTING DECISION TREES MODEL**"
   ]
  },
  {
   "cell_type": "code",
   "execution_count": 41,
   "id": "587584a2-fec2-4bcc-b764-575e2405254c",
   "metadata": {},
   "outputs": [],
   "source": [
    "decision_model = DecisionTreeClassifier(random_state = 123)"
   ]
  },
  {
   "cell_type": "code",
   "execution_count": 42,
   "id": "a0ab14d8-88c1-4d6f-8946-dbdd773d4627",
   "metadata": {},
   "outputs": [],
   "source": [
    "decision_model = DecisionTreeClassifier(random_state = 123)\n",
    "\n",
    "\n",
    "#defining the parameter grid\n",
    "param_grid = {\n",
    "    'criterion': ['gini', 'entropy'],\n",
    "    'max_depth': [None, 2, 4, 6, 8, 10],\n",
    "    'min_samples_split': [2, 5, 10],\n",
    "    'min_samples_leaf': [1, 2, 4]\n",
    "}"
   ]
  },
  {
   "cell_type": "code",
   "execution_count": 43,
   "id": "e42a4c92-9b7a-4fea-a7e1-3059e4ba504a",
   "metadata": {},
   "outputs": [],
   "source": [
    "#Grid Search\n",
    "grid_dt = GridSearchCV(estimator = decision_model, param_grid = param_grid, n_jobs = -1, scoring = \"f1\",\n",
    "                       error_score = 0, cv = cv)"
   ]
  },
  {
   "cell_type": "code",
   "execution_count": 44,
   "id": "f902aee3-f550-47c5-9cba-2c119138c273",
   "metadata": {},
   "outputs": [],
   "source": [
    "#fitting the best model \n",
    "model = grid_dt.fit(X_train, y_train)\n"
   ]
  },
  {
   "cell_type": "markdown",
   "id": "8b6f067d-9392-49a5-868e-cc24b8809e37",
   "metadata": {},
   "source": [
    "**Training Accuracy**"
   ]
  },
  {
   "cell_type": "code",
   "execution_count": 45,
   "id": "c3aa3ed4-3f93-4489-a880-0d8d8f05b521",
   "metadata": {},
   "outputs": [
    {
     "name": "stdout",
     "output_type": "stream",
     "text": [
      "Decision Training Accuracy: 0.8063\n"
     ]
    }
   ],
   "source": [
    "#Making Predictions \n",
    "dec_train = model.predict(X_train)\n",
    "dec_accuracy = accuracy_score(y_train, dec_train)\n",
    "print(f\"Decision Training Accuracy: {dec_accuracy:.4f}\")"
   ]
  },
  {
   "cell_type": "markdown",
   "id": "f11d21df-0288-4cad-ad24-66fe50520f4b",
   "metadata": {},
   "source": [
    "**Testing Accuracy**"
   ]
  },
  {
   "cell_type": "code",
   "execution_count": 46,
   "id": "716faefb-d934-4dd3-955d-d73e29637ed1",
   "metadata": {},
   "outputs": [
    {
     "name": "stdout",
     "output_type": "stream",
     "text": [
      "Decision Testing Accuracy: 0.7662\n"
     ]
    }
   ],
   "source": [
    "#Making Predictions \n",
    "dec_pred = model.predict(X_test)\n",
    "dec_test_accuracy = accuracy_score(y_test, dec_pred)\n",
    "print(f\"Decision Testing Accuracy: {dec_test_accuracy:.4f}\")"
   ]
  },
  {
   "cell_type": "code",
   "execution_count": 47,
   "id": "63592ccc-f53c-49c5-9189-0fc1ffc23877",
   "metadata": {},
   "outputs": [
    {
     "name": "stdout",
     "output_type": "stream",
     "text": [
      "Decision AUC: 0.7817\n"
     ]
    }
   ],
   "source": [
    "\n",
    "#AUC SCORE\n",
    "\n",
    "fpr, tpr, thresholds = roc_curve(y_test, dec_pred)\n",
    "dec_roc_auc = auc(fpr, tpr)\n",
    "print(f\"Decision AUC: {dec_roc_auc:.4f}\")"
   ]
  },
  {
   "cell_type": "code",
   "execution_count": 48,
   "id": "7f894ec8-8636-45bb-a538-5a7138865edc",
   "metadata": {},
   "outputs": [
    {
     "name": "stdout",
     "output_type": "stream",
     "text": [
      "Decision Classification report:\n",
      "               precision    recall  f1-score   support\n",
      "\n",
      "           0       0.89      0.73      0.80       100\n",
      "           1       0.62      0.83      0.71        54\n",
      "\n",
      "    accuracy                           0.77       154\n",
      "   macro avg       0.76      0.78      0.76       154\n",
      "weighted avg       0.80      0.77      0.77       154\n",
      "\n"
     ]
    }
   ],
   "source": [
    "#Classification Report \n",
    "print(f\"Decision Classification report:\\n {classification_report(y_test, dec_pred)}\")"
   ]
  },
  {
   "cell_type": "markdown",
   "id": "7da6b991-547e-4324-b12d-050cb212af39",
   "metadata": {},
   "source": [
    "**Random Forest Model Fitting**"
   ]
  },
  {
   "cell_type": "code",
   "execution_count": 49,
   "id": "9f517614-7242-495e-bfb2-d05c2ee311c2",
   "metadata": {},
   "outputs": [
    {
     "name": "stdout",
     "output_type": "stream",
     "text": [
      "{'n_estimators': [50, 100, 200], 'max_features': ['log2', 'sqrt'], 'max_depth': [None, 10, 20, 30], 'min_samples_leaf': [1, 2, 4], 'min_samples_split': [2, 5, 10], 'bootstrap': [True, False]}\n"
     ]
    }
   ],
   "source": [
    "#setting the hyperparameters \n",
    "# number of trees \n",
    "n_estimators = [50,100,200]\n",
    "#i want 10 random numbers starting from 10 to 80, linearly spaced as options in my parameter grid\n",
    "\n",
    "#number of features to consider at each split\n",
    "max_features = ['log2', 'sqrt'] \n",
    "# consider all the features all the square root of the features \n",
    "\n",
    "#maximum number of levels in a tree \n",
    "max_depth = [None, 10, 20, 30]\n",
    "\n",
    "#minimum number of samples required to split a node\n",
    "min_samples_leaf = [1,2,4]\n",
    "\n",
    "#number of samples to be considered at each split\n",
    "min_samples_split = [2, 5,10]\n",
    "\n",
    "#whether boostrap samples are used \n",
    "bootstrap = [True, False]\n",
    "\n",
    "\n",
    "#parameter grid \n",
    "param_grid = {'n_estimators': n_estimators,\n",
    "              'max_features': max_features,\n",
    "              'max_depth': max_depth,\n",
    "              'min_samples_leaf': min_samples_leaf,\n",
    "              'min_samples_split': min_samples_split,\n",
    "              'bootstrap': bootstrap,}\n",
    "print(param_grid)\n"
   ]
  },
  {
   "cell_type": "code",
   "execution_count": 52,
   "id": "690b0bf6-e0eb-4eb1-b434-82f7d5048609",
   "metadata": {},
   "outputs": [],
   "source": [
    "#defining the model \n",
    "rf_model = RandomForestClassifier(random_state = 123)"
   ]
  },
  {
   "cell_type": "code",
   "execution_count": 53,
   "id": "641b4a0f-1b49-4543-9e45-29996ed3f79a",
   "metadata": {},
   "outputs": [
    {
     "name": "stdout",
     "output_type": "stream",
     "text": [
      "Fitting 3 folds for each of 432 candidates, totalling 1296 fits\n"
     ]
    },
    {
     "data": {
      "text/html": [
       "<style>#sk-container-id-1 {\n",
       "  /* Definition of color scheme common for light and dark mode */\n",
       "  --sklearn-color-text: black;\n",
       "  --sklearn-color-line: gray;\n",
       "  /* Definition of color scheme for unfitted estimators */\n",
       "  --sklearn-color-unfitted-level-0: #fff5e6;\n",
       "  --sklearn-color-unfitted-level-1: #f6e4d2;\n",
       "  --sklearn-color-unfitted-level-2: #ffe0b3;\n",
       "  --sklearn-color-unfitted-level-3: chocolate;\n",
       "  /* Definition of color scheme for fitted estimators */\n",
       "  --sklearn-color-fitted-level-0: #f0f8ff;\n",
       "  --sklearn-color-fitted-level-1: #d4ebff;\n",
       "  --sklearn-color-fitted-level-2: #b3dbfd;\n",
       "  --sklearn-color-fitted-level-3: cornflowerblue;\n",
       "\n",
       "  /* Specific color for light theme */\n",
       "  --sklearn-color-text-on-default-background: var(--sg-text-color, var(--theme-code-foreground, var(--jp-content-font-color1, black)));\n",
       "  --sklearn-color-background: var(--sg-background-color, var(--theme-background, var(--jp-layout-color0, white)));\n",
       "  --sklearn-color-border-box: var(--sg-text-color, var(--theme-code-foreground, var(--jp-content-font-color1, black)));\n",
       "  --sklearn-color-icon: #696969;\n",
       "\n",
       "  @media (prefers-color-scheme: dark) {\n",
       "    /* Redefinition of color scheme for dark theme */\n",
       "    --sklearn-color-text-on-default-background: var(--sg-text-color, var(--theme-code-foreground, var(--jp-content-font-color1, white)));\n",
       "    --sklearn-color-background: var(--sg-background-color, var(--theme-background, var(--jp-layout-color0, #111)));\n",
       "    --sklearn-color-border-box: var(--sg-text-color, var(--theme-code-foreground, var(--jp-content-font-color1, white)));\n",
       "    --sklearn-color-icon: #878787;\n",
       "  }\n",
       "}\n",
       "\n",
       "#sk-container-id-1 {\n",
       "  color: var(--sklearn-color-text);\n",
       "}\n",
       "\n",
       "#sk-container-id-1 pre {\n",
       "  padding: 0;\n",
       "}\n",
       "\n",
       "#sk-container-id-1 input.sk-hidden--visually {\n",
       "  border: 0;\n",
       "  clip: rect(1px 1px 1px 1px);\n",
       "  clip: rect(1px, 1px, 1px, 1px);\n",
       "  height: 1px;\n",
       "  margin: -1px;\n",
       "  overflow: hidden;\n",
       "  padding: 0;\n",
       "  position: absolute;\n",
       "  width: 1px;\n",
       "}\n",
       "\n",
       "#sk-container-id-1 div.sk-dashed-wrapped {\n",
       "  border: 1px dashed var(--sklearn-color-line);\n",
       "  margin: 0 0.4em 0.5em 0.4em;\n",
       "  box-sizing: border-box;\n",
       "  padding-bottom: 0.4em;\n",
       "  background-color: var(--sklearn-color-background);\n",
       "}\n",
       "\n",
       "#sk-container-id-1 div.sk-container {\n",
       "  /* jupyter's `normalize.less` sets `[hidden] { display: none; }`\n",
       "     but bootstrap.min.css set `[hidden] { display: none !important; }`\n",
       "     so we also need the `!important` here to be able to override the\n",
       "     default hidden behavior on the sphinx rendered scikit-learn.org.\n",
       "     See: https://github.com/scikit-learn/scikit-learn/issues/21755 */\n",
       "  display: inline-block !important;\n",
       "  position: relative;\n",
       "}\n",
       "\n",
       "#sk-container-id-1 div.sk-text-repr-fallback {\n",
       "  display: none;\n",
       "}\n",
       "\n",
       "div.sk-parallel-item,\n",
       "div.sk-serial,\n",
       "div.sk-item {\n",
       "  /* draw centered vertical line to link estimators */\n",
       "  background-image: linear-gradient(var(--sklearn-color-text-on-default-background), var(--sklearn-color-text-on-default-background));\n",
       "  background-size: 2px 100%;\n",
       "  background-repeat: no-repeat;\n",
       "  background-position: center center;\n",
       "}\n",
       "\n",
       "/* Parallel-specific style estimator block */\n",
       "\n",
       "#sk-container-id-1 div.sk-parallel-item::after {\n",
       "  content: \"\";\n",
       "  width: 100%;\n",
       "  border-bottom: 2px solid var(--sklearn-color-text-on-default-background);\n",
       "  flex-grow: 1;\n",
       "}\n",
       "\n",
       "#sk-container-id-1 div.sk-parallel {\n",
       "  display: flex;\n",
       "  align-items: stretch;\n",
       "  justify-content: center;\n",
       "  background-color: var(--sklearn-color-background);\n",
       "  position: relative;\n",
       "}\n",
       "\n",
       "#sk-container-id-1 div.sk-parallel-item {\n",
       "  display: flex;\n",
       "  flex-direction: column;\n",
       "}\n",
       "\n",
       "#sk-container-id-1 div.sk-parallel-item:first-child::after {\n",
       "  align-self: flex-end;\n",
       "  width: 50%;\n",
       "}\n",
       "\n",
       "#sk-container-id-1 div.sk-parallel-item:last-child::after {\n",
       "  align-self: flex-start;\n",
       "  width: 50%;\n",
       "}\n",
       "\n",
       "#sk-container-id-1 div.sk-parallel-item:only-child::after {\n",
       "  width: 0;\n",
       "}\n",
       "\n",
       "/* Serial-specific style estimator block */\n",
       "\n",
       "#sk-container-id-1 div.sk-serial {\n",
       "  display: flex;\n",
       "  flex-direction: column;\n",
       "  align-items: center;\n",
       "  background-color: var(--sklearn-color-background);\n",
       "  padding-right: 1em;\n",
       "  padding-left: 1em;\n",
       "}\n",
       "\n",
       "\n",
       "/* Toggleable style: style used for estimator/Pipeline/ColumnTransformer box that is\n",
       "clickable and can be expanded/collapsed.\n",
       "- Pipeline and ColumnTransformer use this feature and define the default style\n",
       "- Estimators will overwrite some part of the style using the `sk-estimator` class\n",
       "*/\n",
       "\n",
       "/* Pipeline and ColumnTransformer style (default) */\n",
       "\n",
       "#sk-container-id-1 div.sk-toggleable {\n",
       "  /* Default theme specific background. It is overwritten whether we have a\n",
       "  specific estimator or a Pipeline/ColumnTransformer */\n",
       "  background-color: var(--sklearn-color-background);\n",
       "}\n",
       "\n",
       "/* Toggleable label */\n",
       "#sk-container-id-1 label.sk-toggleable__label {\n",
       "  cursor: pointer;\n",
       "  display: block;\n",
       "  width: 100%;\n",
       "  margin-bottom: 0;\n",
       "  padding: 0.5em;\n",
       "  box-sizing: border-box;\n",
       "  text-align: center;\n",
       "}\n",
       "\n",
       "#sk-container-id-1 label.sk-toggleable__label-arrow:before {\n",
       "  /* Arrow on the left of the label */\n",
       "  content: \"▸\";\n",
       "  float: left;\n",
       "  margin-right: 0.25em;\n",
       "  color: var(--sklearn-color-icon);\n",
       "}\n",
       "\n",
       "#sk-container-id-1 label.sk-toggleable__label-arrow:hover:before {\n",
       "  color: var(--sklearn-color-text);\n",
       "}\n",
       "\n",
       "/* Toggleable content - dropdown */\n",
       "\n",
       "#sk-container-id-1 div.sk-toggleable__content {\n",
       "  max-height: 0;\n",
       "  max-width: 0;\n",
       "  overflow: hidden;\n",
       "  text-align: left;\n",
       "  /* unfitted */\n",
       "  background-color: var(--sklearn-color-unfitted-level-0);\n",
       "}\n",
       "\n",
       "#sk-container-id-1 div.sk-toggleable__content.fitted {\n",
       "  /* fitted */\n",
       "  background-color: var(--sklearn-color-fitted-level-0);\n",
       "}\n",
       "\n",
       "#sk-container-id-1 div.sk-toggleable__content pre {\n",
       "  margin: 0.2em;\n",
       "  border-radius: 0.25em;\n",
       "  color: var(--sklearn-color-text);\n",
       "  /* unfitted */\n",
       "  background-color: var(--sklearn-color-unfitted-level-0);\n",
       "}\n",
       "\n",
       "#sk-container-id-1 div.sk-toggleable__content.fitted pre {\n",
       "  /* unfitted */\n",
       "  background-color: var(--sklearn-color-fitted-level-0);\n",
       "}\n",
       "\n",
       "#sk-container-id-1 input.sk-toggleable__control:checked~div.sk-toggleable__content {\n",
       "  /* Expand drop-down */\n",
       "  max-height: 200px;\n",
       "  max-width: 100%;\n",
       "  overflow: auto;\n",
       "}\n",
       "\n",
       "#sk-container-id-1 input.sk-toggleable__control:checked~label.sk-toggleable__label-arrow:before {\n",
       "  content: \"▾\";\n",
       "}\n",
       "\n",
       "/* Pipeline/ColumnTransformer-specific style */\n",
       "\n",
       "#sk-container-id-1 div.sk-label input.sk-toggleable__control:checked~label.sk-toggleable__label {\n",
       "  color: var(--sklearn-color-text);\n",
       "  background-color: var(--sklearn-color-unfitted-level-2);\n",
       "}\n",
       "\n",
       "#sk-container-id-1 div.sk-label.fitted input.sk-toggleable__control:checked~label.sk-toggleable__label {\n",
       "  background-color: var(--sklearn-color-fitted-level-2);\n",
       "}\n",
       "\n",
       "/* Estimator-specific style */\n",
       "\n",
       "/* Colorize estimator box */\n",
       "#sk-container-id-1 div.sk-estimator input.sk-toggleable__control:checked~label.sk-toggleable__label {\n",
       "  /* unfitted */\n",
       "  background-color: var(--sklearn-color-unfitted-level-2);\n",
       "}\n",
       "\n",
       "#sk-container-id-1 div.sk-estimator.fitted input.sk-toggleable__control:checked~label.sk-toggleable__label {\n",
       "  /* fitted */\n",
       "  background-color: var(--sklearn-color-fitted-level-2);\n",
       "}\n",
       "\n",
       "#sk-container-id-1 div.sk-label label.sk-toggleable__label,\n",
       "#sk-container-id-1 div.sk-label label {\n",
       "  /* The background is the default theme color */\n",
       "  color: var(--sklearn-color-text-on-default-background);\n",
       "}\n",
       "\n",
       "/* On hover, darken the color of the background */\n",
       "#sk-container-id-1 div.sk-label:hover label.sk-toggleable__label {\n",
       "  color: var(--sklearn-color-text);\n",
       "  background-color: var(--sklearn-color-unfitted-level-2);\n",
       "}\n",
       "\n",
       "/* Label box, darken color on hover, fitted */\n",
       "#sk-container-id-1 div.sk-label.fitted:hover label.sk-toggleable__label.fitted {\n",
       "  color: var(--sklearn-color-text);\n",
       "  background-color: var(--sklearn-color-fitted-level-2);\n",
       "}\n",
       "\n",
       "/* Estimator label */\n",
       "\n",
       "#sk-container-id-1 div.sk-label label {\n",
       "  font-family: monospace;\n",
       "  font-weight: bold;\n",
       "  display: inline-block;\n",
       "  line-height: 1.2em;\n",
       "}\n",
       "\n",
       "#sk-container-id-1 div.sk-label-container {\n",
       "  text-align: center;\n",
       "}\n",
       "\n",
       "/* Estimator-specific */\n",
       "#sk-container-id-1 div.sk-estimator {\n",
       "  font-family: monospace;\n",
       "  border: 1px dotted var(--sklearn-color-border-box);\n",
       "  border-radius: 0.25em;\n",
       "  box-sizing: border-box;\n",
       "  margin-bottom: 0.5em;\n",
       "  /* unfitted */\n",
       "  background-color: var(--sklearn-color-unfitted-level-0);\n",
       "}\n",
       "\n",
       "#sk-container-id-1 div.sk-estimator.fitted {\n",
       "  /* fitted */\n",
       "  background-color: var(--sklearn-color-fitted-level-0);\n",
       "}\n",
       "\n",
       "/* on hover */\n",
       "#sk-container-id-1 div.sk-estimator:hover {\n",
       "  /* unfitted */\n",
       "  background-color: var(--sklearn-color-unfitted-level-2);\n",
       "}\n",
       "\n",
       "#sk-container-id-1 div.sk-estimator.fitted:hover {\n",
       "  /* fitted */\n",
       "  background-color: var(--sklearn-color-fitted-level-2);\n",
       "}\n",
       "\n",
       "/* Specification for estimator info (e.g. \"i\" and \"?\") */\n",
       "\n",
       "/* Common style for \"i\" and \"?\" */\n",
       "\n",
       ".sk-estimator-doc-link,\n",
       "a:link.sk-estimator-doc-link,\n",
       "a:visited.sk-estimator-doc-link {\n",
       "  float: right;\n",
       "  font-size: smaller;\n",
       "  line-height: 1em;\n",
       "  font-family: monospace;\n",
       "  background-color: var(--sklearn-color-background);\n",
       "  border-radius: 1em;\n",
       "  height: 1em;\n",
       "  width: 1em;\n",
       "  text-decoration: none !important;\n",
       "  margin-left: 1ex;\n",
       "  /* unfitted */\n",
       "  border: var(--sklearn-color-unfitted-level-1) 1pt solid;\n",
       "  color: var(--sklearn-color-unfitted-level-1);\n",
       "}\n",
       "\n",
       ".sk-estimator-doc-link.fitted,\n",
       "a:link.sk-estimator-doc-link.fitted,\n",
       "a:visited.sk-estimator-doc-link.fitted {\n",
       "  /* fitted */\n",
       "  border: var(--sklearn-color-fitted-level-1) 1pt solid;\n",
       "  color: var(--sklearn-color-fitted-level-1);\n",
       "}\n",
       "\n",
       "/* On hover */\n",
       "div.sk-estimator:hover .sk-estimator-doc-link:hover,\n",
       ".sk-estimator-doc-link:hover,\n",
       "div.sk-label-container:hover .sk-estimator-doc-link:hover,\n",
       ".sk-estimator-doc-link:hover {\n",
       "  /* unfitted */\n",
       "  background-color: var(--sklearn-color-unfitted-level-3);\n",
       "  color: var(--sklearn-color-background);\n",
       "  text-decoration: none;\n",
       "}\n",
       "\n",
       "div.sk-estimator.fitted:hover .sk-estimator-doc-link.fitted:hover,\n",
       ".sk-estimator-doc-link.fitted:hover,\n",
       "div.sk-label-container:hover .sk-estimator-doc-link.fitted:hover,\n",
       ".sk-estimator-doc-link.fitted:hover {\n",
       "  /* fitted */\n",
       "  background-color: var(--sklearn-color-fitted-level-3);\n",
       "  color: var(--sklearn-color-background);\n",
       "  text-decoration: none;\n",
       "}\n",
       "\n",
       "/* Span, style for the box shown on hovering the info icon */\n",
       ".sk-estimator-doc-link span {\n",
       "  display: none;\n",
       "  z-index: 9999;\n",
       "  position: relative;\n",
       "  font-weight: normal;\n",
       "  right: .2ex;\n",
       "  padding: .5ex;\n",
       "  margin: .5ex;\n",
       "  width: min-content;\n",
       "  min-width: 20ex;\n",
       "  max-width: 50ex;\n",
       "  color: var(--sklearn-color-text);\n",
       "  box-shadow: 2pt 2pt 4pt #999;\n",
       "  /* unfitted */\n",
       "  background: var(--sklearn-color-unfitted-level-0);\n",
       "  border: .5pt solid var(--sklearn-color-unfitted-level-3);\n",
       "}\n",
       "\n",
       ".sk-estimator-doc-link.fitted span {\n",
       "  /* fitted */\n",
       "  background: var(--sklearn-color-fitted-level-0);\n",
       "  border: var(--sklearn-color-fitted-level-3);\n",
       "}\n",
       "\n",
       ".sk-estimator-doc-link:hover span {\n",
       "  display: block;\n",
       "}\n",
       "\n",
       "/* \"?\"-specific style due to the `<a>` HTML tag */\n",
       "\n",
       "#sk-container-id-1 a.estimator_doc_link {\n",
       "  float: right;\n",
       "  font-size: 1rem;\n",
       "  line-height: 1em;\n",
       "  font-family: monospace;\n",
       "  background-color: var(--sklearn-color-background);\n",
       "  border-radius: 1rem;\n",
       "  height: 1rem;\n",
       "  width: 1rem;\n",
       "  text-decoration: none;\n",
       "  /* unfitted */\n",
       "  color: var(--sklearn-color-unfitted-level-1);\n",
       "  border: var(--sklearn-color-unfitted-level-1) 1pt solid;\n",
       "}\n",
       "\n",
       "#sk-container-id-1 a.estimator_doc_link.fitted {\n",
       "  /* fitted */\n",
       "  border: var(--sklearn-color-fitted-level-1) 1pt solid;\n",
       "  color: var(--sklearn-color-fitted-level-1);\n",
       "}\n",
       "\n",
       "/* On hover */\n",
       "#sk-container-id-1 a.estimator_doc_link:hover {\n",
       "  /* unfitted */\n",
       "  background-color: var(--sklearn-color-unfitted-level-3);\n",
       "  color: var(--sklearn-color-background);\n",
       "  text-decoration: none;\n",
       "}\n",
       "\n",
       "#sk-container-id-1 a.estimator_doc_link.fitted:hover {\n",
       "  /* fitted */\n",
       "  background-color: var(--sklearn-color-fitted-level-3);\n",
       "}\n",
       "</style><div id=\"sk-container-id-1\" class=\"sk-top-container\"><div class=\"sk-text-repr-fallback\"><pre>GridSearchCV(cv=3, estimator=RandomForestClassifier(random_state=123), n_jobs=4,\n",
       "             param_grid={&#x27;bootstrap&#x27;: [True, False],\n",
       "                         &#x27;max_depth&#x27;: [None, 10, 20, 30],\n",
       "                         &#x27;max_features&#x27;: [&#x27;log2&#x27;, &#x27;sqrt&#x27;],\n",
       "                         &#x27;min_samples_leaf&#x27;: [1, 2, 4],\n",
       "                         &#x27;min_samples_split&#x27;: [2, 5, 10],\n",
       "                         &#x27;n_estimators&#x27;: [50, 100, 200]},\n",
       "             verbose=2)</pre><b>In a Jupyter environment, please rerun this cell to show the HTML representation or trust the notebook. <br />On GitHub, the HTML representation is unable to render, please try loading this page with nbviewer.org.</b></div><div class=\"sk-container\" hidden><div class=\"sk-item sk-dashed-wrapped\"><div class=\"sk-label-container\"><div class=\"sk-label fitted sk-toggleable\"><input class=\"sk-toggleable__control sk-hidden--visually\" id=\"sk-estimator-id-1\" type=\"checkbox\" ><label for=\"sk-estimator-id-1\" class=\"sk-toggleable__label fitted sk-toggleable__label-arrow fitted\">&nbsp;&nbsp;GridSearchCV<a class=\"sk-estimator-doc-link fitted\" rel=\"noreferrer\" target=\"_blank\" href=\"https://scikit-learn.org/1.5/modules/generated/sklearn.model_selection.GridSearchCV.html\">?<span>Documentation for GridSearchCV</span></a><span class=\"sk-estimator-doc-link fitted\">i<span>Fitted</span></span></label><div class=\"sk-toggleable__content fitted\"><pre>GridSearchCV(cv=3, estimator=RandomForestClassifier(random_state=123), n_jobs=4,\n",
       "             param_grid={&#x27;bootstrap&#x27;: [True, False],\n",
       "                         &#x27;max_depth&#x27;: [None, 10, 20, 30],\n",
       "                         &#x27;max_features&#x27;: [&#x27;log2&#x27;, &#x27;sqrt&#x27;],\n",
       "                         &#x27;min_samples_leaf&#x27;: [1, 2, 4],\n",
       "                         &#x27;min_samples_split&#x27;: [2, 5, 10],\n",
       "                         &#x27;n_estimators&#x27;: [50, 100, 200]},\n",
       "             verbose=2)</pre></div> </div></div><div class=\"sk-parallel\"><div class=\"sk-parallel-item\"><div class=\"sk-item\"><div class=\"sk-label-container\"><div class=\"sk-label fitted sk-toggleable\"><input class=\"sk-toggleable__control sk-hidden--visually\" id=\"sk-estimator-id-2\" type=\"checkbox\" ><label for=\"sk-estimator-id-2\" class=\"sk-toggleable__label fitted sk-toggleable__label-arrow fitted\">best_estimator_: RandomForestClassifier</label><div class=\"sk-toggleable__content fitted\"><pre>RandomForestClassifier(bootstrap=False, max_depth=20, n_estimators=200,\n",
       "                       random_state=123)</pre></div> </div></div><div class=\"sk-serial\"><div class=\"sk-item\"><div class=\"sk-estimator fitted sk-toggleable\"><input class=\"sk-toggleable__control sk-hidden--visually\" id=\"sk-estimator-id-3\" type=\"checkbox\" ><label for=\"sk-estimator-id-3\" class=\"sk-toggleable__label fitted sk-toggleable__label-arrow fitted\">&nbsp;RandomForestClassifier<a class=\"sk-estimator-doc-link fitted\" rel=\"noreferrer\" target=\"_blank\" href=\"https://scikit-learn.org/1.5/modules/generated/sklearn.ensemble.RandomForestClassifier.html\">?<span>Documentation for RandomForestClassifier</span></a></label><div class=\"sk-toggleable__content fitted\"><pre>RandomForestClassifier(bootstrap=False, max_depth=20, n_estimators=200,\n",
       "                       random_state=123)</pre></div> </div></div></div></div></div></div></div></div></div>"
      ],
      "text/plain": [
       "GridSearchCV(cv=3, estimator=RandomForestClassifier(random_state=123), n_jobs=4,\n",
       "             param_grid={'bootstrap': [True, False],\n",
       "                         'max_depth': [None, 10, 20, 30],\n",
       "                         'max_features': ['log2', 'sqrt'],\n",
       "                         'min_samples_leaf': [1, 2, 4],\n",
       "                         'min_samples_split': [2, 5, 10],\n",
       "                         'n_estimators': [50, 100, 200]},\n",
       "             verbose=2)"
      ]
     },
     "execution_count": 53,
     "metadata": {},
     "output_type": "execute_result"
    }
   ],
   "source": [
    "#grid search\n",
    "#defining the grid \n",
    "rf_grid = GridSearchCV(estimator = rf_model, param_grid = param_grid, cv = 3, verbose = 2, n_jobs = 4)\n",
    "\n",
    "#model fitting \n",
    "rf_grid.fit(X_train, y_train)"
   ]
  },
  {
   "cell_type": "code",
   "execution_count": 54,
   "id": "b22a7392-d8be-4f8e-b5a3-7e682712e6d8",
   "metadata": {},
   "outputs": [
    {
     "name": "stdout",
     "output_type": "stream",
     "text": [
      "Random Forest Training Accuracy: 1.0000\n"
     ]
    }
   ],
   "source": [
    "#TRaining Accuracy \n",
    "rf_train = rf_grid.predict(X_train)\n",
    "rf_train_accuracy = accuracy_score(y_train, rf_train)\n",
    "print(f\"Random Forest Training Accuracy: {rf_train_accuracy:.4f}\")\n"
   ]
  },
  {
   "cell_type": "code",
   "execution_count": 57,
   "id": "3e6df40e-1272-482f-9287-616b81b8beb8",
   "metadata": {},
   "outputs": [
    {
     "name": "stdout",
     "output_type": "stream",
     "text": [
      "Random Forest Testing Accuracy: 0.7662\n"
     ]
    }
   ],
   "source": [
    "#Testing Accuracy \n",
    "rf_pred = rf_grid.predict(X_test)\n",
    "rf_test_accuracy = accuracy_score(y_test, rf_pred)\n",
    "print(f\"Random Forest Testing Accuracy: {rf_test_accuracy:.4f}\")\n"
   ]
  },
  {
   "cell_type": "code",
   "execution_count": 58,
   "id": "a3bf1815-dc42-48db-951a-7cc3c914809e",
   "metadata": {},
   "outputs": [
    {
     "name": "stdout",
     "output_type": "stream",
     "text": [
      "Random  Classification report:\n",
      "               precision    recall  f1-score   support\n",
      "\n",
      "           0       0.83      0.80      0.82       100\n",
      "           1       0.66      0.70      0.68        54\n",
      "\n",
      "    accuracy                           0.77       154\n",
      "   macro avg       0.74      0.75      0.75       154\n",
      "weighted avg       0.77      0.77      0.77       154\n",
      "\n"
     ]
    }
   ],
   "source": [
    "#Classification Report \n",
    "print(f\"Random  Classification report:\\n {classification_report(y_test, rf_pred)}\")"
   ]
  },
  {
   "cell_type": "code",
   "execution_count": 59,
   "id": "c2b60572-d398-4e1a-af23-99a7192eb886",
   "metadata": {},
   "outputs": [
    {
     "name": "stdout",
     "output_type": "stream",
     "text": [
      "Random  Forest AUC: 0.7519\n"
     ]
    }
   ],
   "source": [
    "#AUC SCORE \n",
    "#AUC SCORE\n",
    "\n",
    "fpr, tpr, thresholds = roc_curve(y_test, rf_pred)\n",
    "rf_roc_auc = auc(fpr, tpr)\n",
    "print(f\"Random  Forest AUC: {rf_roc_auc:.4f}\")"
   ]
  },
  {
   "cell_type": "markdown",
   "id": "b9e2cf07-c2f1-4d26-b05c-7bd1e865a10a",
   "metadata": {},
   "source": [
    "**Support Vector Machines**"
   ]
  },
  {
   "cell_type": "code",
   "execution_count": 62,
   "id": "fc9cc6c0-220a-4e7d-ac24-ddebc85b0fd5",
   "metadata": {},
   "outputs": [],
   "source": [
    "#defining the model\n",
    "svm = SVC (probability = True)\n",
    "#defining the the parameters \n",
    "param_grid = {\"kernel\": [\"poly\", \"sigmoid\", \"rbf\"],\n",
    "    \"C\" : [0.001, 0.1, 1, 10, 100],\n",
    "    \"gamma\" : [\"scale\",]}\n"
   ]
  },
  {
   "cell_type": "code",
   "execution_count": 63,
   "id": "999e8a73-c95d-46a8-ae6d-af5e653372a4",
   "metadata": {},
   "outputs": [],
   "source": [
    "#defining the grid search \n",
    "svm_grid = GridSearchCV(estimator = svm, param_grid= param_grid, n_jobs = -1, cv = cv, error_score = 0)"
   ]
  },
  {
   "cell_type": "code",
   "execution_count": 64,
   "id": "aec141e1-2d22-43d0-9775-2bec759293a4",
   "metadata": {},
   "outputs": [],
   "source": [
    "#fitting the model to fing the best parameters\n",
    "sv_model = svm_grid.fit(X_train, y_train)"
   ]
  },
  {
   "cell_type": "code",
   "execution_count": 65,
   "id": "72ab4601-736e-433e-8a8e-de04413ef801",
   "metadata": {},
   "outputs": [
    {
     "name": "stdout",
     "output_type": "stream",
     "text": [
      "Support  Training Accuracy: 0.7975\n"
     ]
    }
   ],
   "source": [
    "#Training Accuracy\n",
    "svm_train = svm_grid.predict(X_train)\n",
    "sv_train_accuracy = accuracy_score(y_train, svm_train)\n",
    "print(f\"Support  Training Accuracy: {sv_train_accuracy:.4f}\")"
   ]
  },
  {
   "cell_type": "code",
   "execution_count": 66,
   "id": "97d0029a-df25-4686-9c0f-0ee963a9c145",
   "metadata": {},
   "outputs": [
    {
     "name": "stdout",
     "output_type": "stream",
     "text": [
      "Support Testing Accuracy: 0.7403\n"
     ]
    }
   ],
   "source": [
    "#Testing Accuracy\n",
    "svm_pred = svm_grid.predict(X_test)\n",
    "svm_test_accuracy = accuracy_score(y_test, svm_pred)\n",
    "print(f\"Support Testing Accuracy: {svm_test_accuracy:.4f}\")"
   ]
  },
  {
   "cell_type": "code",
   "execution_count": 67,
   "id": "1ac0be7d-dafa-4ebc-a17f-9357c0dc10b8",
   "metadata": {},
   "outputs": [
    {
     "name": "stdout",
     "output_type": "stream",
     "text": [
      "Support  Classification report:\n",
      "               precision    recall  f1-score   support\n",
      "\n",
      "           0       0.83      0.76      0.79       100\n",
      "           1       0.61      0.70      0.66        54\n",
      "\n",
      "    accuracy                           0.74       154\n",
      "   macro avg       0.72      0.73      0.72       154\n",
      "weighted avg       0.75      0.74      0.74       154\n",
      "\n"
     ]
    }
   ],
   "source": [
    "#Classification Report \n",
    "print(f\"Support  Classification report:\\n {classification_report(y_test, svm_pred)}\")"
   ]
  },
  {
   "cell_type": "code",
   "execution_count": 68,
   "id": "63e454dc-b66f-4de0-86cd-35ff05b49437",
   "metadata": {},
   "outputs": [
    {
     "name": "stdout",
     "output_type": "stream",
     "text": [
      "Support Vector AUC: 0.7319\n"
     ]
    }
   ],
   "source": [
    "#AUC SCORE \n",
    "#AUC SCORE\n",
    "\n",
    "fpr, tpr, thresholds = roc_curve(y_test, svm_pred)\n",
    "sv_roc_auc = auc(fpr, tpr)\n",
    "print(f\"Support Vector AUC: {sv_roc_auc:.4f}\")"
   ]
  },
  {
   "cell_type": "markdown",
   "id": "1f26d13d-b1f0-4836-be6f-5105634998b9",
   "metadata": {},
   "source": [
    "**FITTING KNN MODEL**"
   ]
  },
  {
   "cell_type": "markdown",
   "id": "357d87c7-6b61-4c4b-baa1-69254263108a",
   "metadata": {},
   "source": [
    "Normalizing  the Predictors"
   ]
  },
  {
   "cell_type": "code",
   "execution_count": 73,
   "id": "3cf6b0aa-7b60-40d8-ab53-c1bfe4e81759",
   "metadata": {},
   "outputs": [],
   "source": [
    "#normalizing  the predictors \n",
    "scaler = MinMaxScaler ()\n",
    "X_train_n = scaler.fit_transform(X_train)\n",
    "X_test_n = scaler.transform(X_test)"
   ]
  },
  {
   "cell_type": "markdown",
   "id": "fb0ebf45-4a58-4068-a03a-a5eb3743c058",
   "metadata": {},
   "source": [
    "**KNN MODEL FITTING**"
   ]
  },
  {
   "cell_type": "code",
   "execution_count": 76,
   "id": "344404c3-c890-4df6-b624-23e6adb503ab",
   "metadata": {},
   "outputs": [],
   "source": [
    "\n",
    "\n",
    "knn = KNeighborsClassifier ()\n"
   ]
  },
  {
   "cell_type": "code",
   "execution_count": 77,
   "id": "829ed503-f561-40e3-8e61-0cb1a0e9ca15",
   "metadata": {},
   "outputs": [],
   "source": [
    "#fitting the model \n",
    "knn_model = knn.fit(X_train_n, y_train)"
   ]
  },
  {
   "cell_type": "code",
   "execution_count": 78,
   "id": "f2d0ee8f-1284-4c10-95f4-a353594b8f72",
   "metadata": {},
   "outputs": [],
   "source": [
    "#predictions \n",
    "knn_pred = knn_model.predict(X_test_n)"
   ]
  },
  {
   "cell_type": "code",
   "execution_count": 79,
   "id": "5d95f795-affd-46c7-85b5-e446e21d80a9",
   "metadata": {},
   "outputs": [
    {
     "name": "stdout",
     "output_type": "stream",
     "text": [
      "KNN Testing Accuracy: 0.7013\n"
     ]
    }
   ],
   "source": [
    "knn_testing_accuracy = accuracy_score(y_test, knn_pred)\n",
    "\n",
    "print(f\"KNN Testing Accuracy: {knn_testing_accuracy:.4f}\")"
   ]
  },
  {
   "cell_type": "code",
   "execution_count": 80,
   "id": "675733a8-c1d0-4833-9560-e2c9041d5ae8",
   "metadata": {},
   "outputs": [
    {
     "name": "stdout",
     "output_type": "stream",
     "text": [
      "KNN Training Accuracy: 0.8600\n"
     ]
    }
   ],
   "source": [
    "knn_train = knn_model.predict(X_train_n)\n",
    "\n",
    "knn_training_accuracy = accuracy_score(y_train, knn_train)\n",
    "\n",
    "print(f\"KNN Training Accuracy: {knn_training_accuracy:.4f}\")"
   ]
  },
  {
   "cell_type": "code",
   "execution_count": 81,
   "id": "a658eb85-e4f8-4905-aae2-cf46d4ba166b",
   "metadata": {},
   "outputs": [
    {
     "name": "stdout",
     "output_type": "stream",
     "text": [
      "Classification Report:\n",
      "               precision    recall  f1-score   support\n",
      "\n",
      "           0       0.81      0.70      0.75       100\n",
      "           1       0.56      0.70      0.62        54\n",
      "\n",
      "    accuracy                           0.70       154\n",
      "   macro avg       0.69      0.70      0.69       154\n",
      "weighted avg       0.72      0.70      0.71       154\n",
      "\n"
     ]
    }
   ],
   "source": [
    "#classsification report \n",
    "print(f'Classification Report:\\n {classification_report(y_test, knn_pred)}')"
   ]
  },
  {
   "cell_type": "code",
   "execution_count": 82,
   "id": "7a787120-c048-4b1e-a80d-e39badb95ac6",
   "metadata": {},
   "outputs": [
    {
     "name": "stdout",
     "output_type": "stream",
     "text": [
      "0.7018518518518517\n"
     ]
    }
   ],
   "source": [
    " #Computing the AUC \n",
    "fpr, tpr, thresholds = roc_curve(y_test, knn_pred)\n",
    " roc_auc = auc(fpr, tpr)\n",
    " print(roc_auc)"
   ]
  },
  {
   "cell_type": "markdown",
   "id": "ecc04caf-bf4b-4dbe-ae18-9a481ac07ec4",
   "metadata": {},
   "source": [
    "**FITTING XGBOOST MODEL**"
   ]
  },
  {
   "cell_type": "code",
   "execution_count": 85,
   "id": "2f1ccf75-026b-4a67-bda2-6c1e6aa98f9e",
   "metadata": {},
   "outputs": [],
   "source": [
    "#Defining the model\n",
    "xgb_model = xgb.XGBClassifier(\"binary:logistic\",  eval_metric = \"auc\")"
   ]
  },
  {
   "cell_type": "code",
   "execution_count": 86,
   "id": "0e781abf-7969-4dd1-be69-2aa428a8ef45",
   "metadata": {},
   "outputs": [],
   "source": [
    "#defining the parameter grid\n",
    "\n",
    "param_grid = {\n",
    "    \n",
    "    \"learning_rate\": [0.01, 0.1, 0.5 ],\n",
    "    \"max_depth\": [ 3,4,6],\n",
    "    \"subsample\" : [0.6,0.8,0.5],  #fraction of training data used per tree\n",
    "    \"colsample_bytree\": [0.5,0.6,0.8], #fraction of features per tree\n",
    "    \"colsample_bylevel\": [0.5,0.6,0.8],\n",
    "    \"colsample_bynode\": [0.5,0.6,0.8],\n",
    "    \"reg_alpha\" : [5,7,9],\n",
    "    \n",
    "    \"reg_lambda\": [3,5,7],\n",
    "    \"gamma\" : [1,3,4],\n",
    "    \"n_estimators\" : [100,300, 500]  \n",
    "    \n",
    "}"
   ]
  },
  {
   "cell_type": "code",
   "execution_count": 87,
   "id": "5ac22782-7a1b-424c-bda1-dc6a052161bf",
   "metadata": {},
   "outputs": [],
   "source": [
    "xg_grid = GridSearchCV(estimator = xgb_model, param_grid = param_grid, n_jobs = -1, verbose = 1, error_score = 0, cv = 3)"
   ]
  },
  {
   "cell_type": "code",
   "execution_count": 88,
   "id": "b7cba1d8-a878-4cc7-925c-bed80d298e28",
   "metadata": {},
   "outputs": [
    {
     "name": "stdout",
     "output_type": "stream",
     "text": [
      "Fitting 3 folds for each of 59049 candidates, totalling 177147 fits\n"
     ]
    }
   ],
   "source": [
    "#FITTING THE MODEL \n",
    "xg_best_model = xg_grid.fit(X_train, y_train)"
   ]
  },
  {
   "cell_type": "code",
   "execution_count": 89,
   "id": "ab1ea4bd-dd3d-47b4-8db0-fcc917aed9e5",
   "metadata": {},
   "outputs": [
    {
     "data": {
      "text/plain": [
       "{'colsample_bylevel': 0.8,\n",
       " 'colsample_bynode': 0.5,\n",
       " 'colsample_bytree': 0.5,\n",
       " 'gamma': 3,\n",
       " 'learning_rate': 0.5,\n",
       " 'max_depth': 3,\n",
       " 'n_estimators': 500,\n",
       " 'reg_alpha': 5,\n",
       " 'reg_lambda': 3,\n",
       " 'subsample': 0.8}"
      ]
     },
     "execution_count": 89,
     "metadata": {},
     "output_type": "execute_result"
    }
   ],
   "source": [
    "#getting the best parameters \n",
    "xg_best_model.best_params_"
   ]
  },
  {
   "cell_type": "code",
   "execution_count": 90,
   "id": "49f388ba-d3b4-481d-881e-abfb2790220e",
   "metadata": {},
   "outputs": [
    {
     "name": "stdout",
     "output_type": "stream",
     "text": [
      "Training Accuracy: 0.7987\n"
     ]
    }
   ],
   "source": [
    "#making predictions \n",
    "xg_pred = xg_best_model.predict(X_train)\n",
    "\n",
    "\n",
    "#training accuracy\n",
    "x_training_accuracy = accuracy_score(y_train, xg_pred)\n",
    "print(f\"Training Accuracy: {x_training_accuracy:.4f}\")"
   ]
  },
  {
   "cell_type": "code",
   "execution_count": 92,
   "id": "5e9b44c6-4b92-41ce-82de-ec77a985ecc8",
   "metadata": {},
   "outputs": [
    {
     "name": "stdout",
     "output_type": "stream",
     "text": [
      "Testing Accuracy: 0.7468\n"
     ]
    }
   ],
   "source": [
    "#Testing Accuracy\n",
    "#making predictions \n",
    "xgb_pred = xg_best_model.predict(X_test)\n",
    "\n",
    "\n",
    "#training accuracy\n",
    "x_testing_accuracy = accuracy_score(y_test, xgb_pred)\n",
    "print(f\"Testing Accuracy: {x_testing_accuracy:.4f}\")"
   ]
  },
  {
   "cell_type": "code",
   "execution_count": 93,
   "id": "cdd69375-1390-4254-a72b-295fd9ee173a",
   "metadata": {},
   "outputs": [
    {
     "name": "stdout",
     "output_type": "stream",
     "text": [
      "CLassification Report/n:               precision    recall  f1-score   support\n",
      "\n",
      "           0       0.87      0.72      0.79       100\n",
      "           1       0.61      0.80      0.69        54\n",
      "\n",
      "    accuracy                           0.75       154\n",
      "   macro avg       0.74      0.76      0.74       154\n",
      "weighted avg       0.78      0.75      0.75       154\n",
      "\n"
     ]
    }
   ],
   "source": [
    "#More performance of the Testing Split\n",
    "\n",
    "confusion_matrix = classification_report(y_test, xgb_pred)\n",
    "\n",
    "print(f\"CLassification Report/n: {confusion_matrix}\")\n"
   ]
  },
  {
   "cell_type": "code",
   "execution_count": 96,
   "id": "04e434e2-e0c1-4e81-aa72-b11cf1fe2d0e",
   "metadata": {},
   "outputs": [
    {
     "name": "stdout",
     "output_type": "stream",
     "text": [
      "0.7581481481481481\n"
     ]
    }
   ],
   "source": [
    "#AUC SCORE \n",
    " #Computing the AUC \n",
    "fpr, tpr, thresholds = roc_curve(y_test, xgb_pred)\n",
    "x_roc_auc = auc(fpr, tpr)\n",
    "print(x_roc_auc)"
   ]
  },
  {
   "cell_type": "code",
   "execution_count": 100,
   "id": "e6479c96-776f-4e21-b3c6-6efd1c28fdd6",
   "metadata": {},
   "outputs": [],
   "source": [
    "#Saving the XGBoost model as it takes so long time to run\n",
    "import pickle as pkl\n",
    "pkl.dump(xg_best_model, open(\"XGBOOST_Diabetes_pima.sav\", \"wb\"))"
   ]
  },
  {
   "cell_type": "markdown",
   "id": "af7ebc08-4b47-46b4-a77d-647eaeb90675",
   "metadata": {},
   "source": [
    "**COMPARING THE MODELS**"
   ]
  },
  {
   "cell_type": "code",
   "execution_count": 97,
   "id": "1e0df661-5501-4da4-8082-f6c378ef8651",
   "metadata": {},
   "outputs": [
    {
     "data": {
      "text/html": [
       "<div>\n",
       "<style scoped>\n",
       "    .dataframe tbody tr th:only-of-type {\n",
       "        vertical-align: middle;\n",
       "    }\n",
       "\n",
       "    .dataframe tbody tr th {\n",
       "        vertical-align: top;\n",
       "    }\n",
       "\n",
       "    .dataframe thead th {\n",
       "        text-align: right;\n",
       "    }\n",
       "</style>\n",
       "<table border=\"1\" class=\"dataframe\">\n",
       "  <thead>\n",
       "    <tr style=\"text-align: right;\">\n",
       "      <th></th>\n",
       "      <th>Model</th>\n",
       "      <th>Training Accuracy</th>\n",
       "      <th>Testing Accuracy</th>\n",
       "      <th>AUC Score</th>\n",
       "    </tr>\n",
       "  </thead>\n",
       "  <tbody>\n",
       "    <tr>\n",
       "      <th>3</th>\n",
       "      <td>Decision Tree</td>\n",
       "      <td>0.80625</td>\n",
       "      <td>0.766234</td>\n",
       "      <td>0.781667</td>\n",
       "    </tr>\n",
       "    <tr>\n",
       "      <th>1</th>\n",
       "      <td>Logistic Regression</td>\n",
       "      <td>0.75000</td>\n",
       "      <td>0.759740</td>\n",
       "      <td>0.759630</td>\n",
       "    </tr>\n",
       "    <tr>\n",
       "      <th>6</th>\n",
       "      <td>XGBOOST</td>\n",
       "      <td>0.79875</td>\n",
       "      <td>0.746753</td>\n",
       "      <td>0.758148</td>\n",
       "    </tr>\n",
       "    <tr>\n",
       "      <th>4</th>\n",
       "      <td>Random Forest</td>\n",
       "      <td>1.00000</td>\n",
       "      <td>0.766234</td>\n",
       "      <td>0.751852</td>\n",
       "    </tr>\n",
       "    <tr>\n",
       "      <th>5</th>\n",
       "      <td>Support Vector</td>\n",
       "      <td>0.79750</td>\n",
       "      <td>0.740260</td>\n",
       "      <td>0.731852</td>\n",
       "    </tr>\n",
       "    <tr>\n",
       "      <th>0</th>\n",
       "      <td>KNN</td>\n",
       "      <td>0.86000</td>\n",
       "      <td>0.701299</td>\n",
       "      <td>0.701852</td>\n",
       "    </tr>\n",
       "    <tr>\n",
       "      <th>2</th>\n",
       "      <td>Naive Bayes</td>\n",
       "      <td>0.74125</td>\n",
       "      <td>0.701299</td>\n",
       "      <td>0.697593</td>\n",
       "    </tr>\n",
       "  </tbody>\n",
       "</table>\n",
       "</div>"
      ],
      "text/plain": [
       "                 Model  Training Accuracy  Testing Accuracy  AUC Score\n",
       "3        Decision Tree            0.80625          0.766234   0.781667\n",
       "1  Logistic Regression            0.75000          0.759740   0.759630\n",
       "6              XGBOOST            0.79875          0.746753   0.758148\n",
       "4        Random Forest            1.00000          0.766234   0.751852\n",
       "5       Support Vector            0.79750          0.740260   0.731852\n",
       "0                  KNN            0.86000          0.701299   0.701852\n",
       "2          Naive Bayes            0.74125          0.701299   0.697593"
      ]
     },
     "execution_count": 97,
     "metadata": {},
     "output_type": "execute_result"
    }
   ],
   "source": [
    "models = pd.DataFrame({\n",
    "    \"Model\": [\"KNN\", \"Logistic Regression\", \"Naive Bayes\",  \"Decision Tree\", \"Random Forest\", \"Support Vector\", \"XGBOOST\"],\n",
    "    \"Training Accuracy\" : [knn_training_accuracy, log_trainig_accuracy, naive_train_accuracy, dec_accuracy, rf_train_accuracy,\n",
    "                           sv_train_accuracy, x_training_accuracy],\n",
    "    \"Testing Accuracy\": [knn_testing_accuracy, log_testing_accuracy, naive_test_accuracy, dec_test_accuracy, rf_test_accuracy,\n",
    "                         svm_test_accuracy, x_testing_accuracy],\n",
    "    \"AUC Score\": [roc_auc, log_roc_auc, naive_roc_auc, dec_roc_auc, rf_roc_auc, sv_roc_auc, x_roc_auc]\n",
    "})\n",
    "\n",
    "##sorting the dataframe\n",
    "\n",
    "models.sort_values(by = \"AUC Score\", ascending = False)\n"
   ]
  },
  {
   "cell_type": "markdown",
   "id": "e1f0034d-2cae-4821-b355-29654a62be86",
   "metadata": {},
   "source": [
    "Based on the results above, the Decision Tree model demonstrates the strongest overall performance, achieving the highest AUC score and one of the top testing accuracies, indicating good generalization. In contrast, both KNN and Random Forest exhibit signs of overfitting, as evidenced by a significant gap between their training and testing accuracies. Among all models, Naive Bayes shows the weakest performance, with the lowest AUC and testing accuracy, suggesting poor generalization to unseen data."
   ]
  },
  {
   "cell_type": "markdown",
   "id": "4dcc64a7-5919-4177-8dfd-232fb8b1b401",
   "metadata": {},
   "source": [
    "**Comparing the classification reports of the top performing models**"
   ]
  },
  {
   "cell_type": "code",
   "execution_count": 98,
   "id": "7aed7a40-73c1-480a-9656-59a674b2e2e0",
   "metadata": {},
   "outputs": [
    {
     "name": "stdout",
     "output_type": "stream",
     "text": [
      "Decision Classification report:\n",
      "               precision    recall  f1-score   support\n",
      "\n",
      "           0       0.89      0.73      0.80       100\n",
      "           1       0.62      0.83      0.71        54\n",
      "\n",
      "    accuracy                           0.77       154\n",
      "   macro avg       0.76      0.78      0.76       154\n",
      "weighted avg       0.80      0.77      0.77       154\n",
      "\n"
     ]
    }
   ],
   "source": [
    "#Classification report of Decision Tree\n",
    "#Classification Report \n",
    "print(f\"Decision Classification report:\\n {classification_report(y_test, dec_pred)}\")"
   ]
  },
  {
   "cell_type": "code",
   "execution_count": 99,
   "id": "71b14e9f-1cba-48bb-9236-4dbbe675bf61",
   "metadata": {},
   "outputs": [
    {
     "name": "stdout",
     "output_type": "stream",
     "text": [
      "Logistic Classification Report:\n",
      "               precision    recall  f1-score   support\n",
      "\n",
      "           0       0.85      0.76      0.80       100\n",
      "           1       0.63      0.76      0.69        54\n",
      "\n",
      "    accuracy                           0.76       154\n",
      "   macro avg       0.74      0.76      0.75       154\n",
      "weighted avg       0.78      0.76      0.76       154\n",
      "\n"
     ]
    }
   ],
   "source": [
    "#Classification Report \n",
    "print(f\"Logistic Classification Report:\\n {classification_report(y_test, l_pred)}\")"
   ]
  },
  {
   "cell_type": "markdown",
   "id": "083a8eef-146f-4633-819d-883f902e8488",
   "metadata": {},
   "source": [
    "In the classification report, the Decision Tree model demonstrates a higher recall for class 1 (diabetic cases) compared to Logistic Regression. This makes it the more suitable choice for diabetes screening, where failing to identify a true positive case could have serious or even life-threatening consequences. Prioritizing recall helps ensure that as many individuals with diabetes as possible are correctly identified for further medical evaluation or intervention."
   ]
  },
  {
   "cell_type": "markdown",
   "id": "82fac4bf-7af6-4997-893b-fe4751134bea",
   "metadata": {},
   "source": [
    "**SAVING THE DECISION TREES MODEL**"
   ]
  },
  {
   "cell_type": "code",
   "execution_count": 103,
   "id": "ab7050a2-6381-465e-854e-b3ea2363b4b4",
   "metadata": {},
   "outputs": [],
   "source": [
    "import pickle as pkl\n",
    "pkl.dump(model, open(\"decision_trees_diabetes_pima.sav\", \"wb\"))"
   ]
  },
  {
   "cell_type": "code",
   "execution_count": null,
   "id": "bb8653a6-ff94-4d61-a1e4-90c289e6acad",
   "metadata": {},
   "outputs": [],
   "source": []
  }
 ],
 "metadata": {
  "kernelspec": {
   "display_name": "Python 3 (ipykernel)",
   "language": "python",
   "name": "python3"
  },
  "language_info": {
   "codemirror_mode": {
    "name": "ipython",
    "version": 3
   },
   "file_extension": ".py",
   "mimetype": "text/x-python",
   "name": "python",
   "nbconvert_exporter": "python",
   "pygments_lexer": "ipython3",
   "version": "3.12.7"
  }
 },
 "nbformat": 4,
 "nbformat_minor": 5
}
